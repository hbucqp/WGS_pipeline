{
 "cells": [
  {
   "cell_type": "code",
   "execution_count": 1,
   "metadata": {},
   "outputs": [],
   "source": [
    "import pandas as pd\n",
    "import numpy as np"
   ]
  },
  {
   "cell_type": "code",
   "execution_count": 3,
   "metadata": {},
   "outputs": [],
   "source": [
    "df = pd.read_csv(r'原始数据汇总.csv')"
   ]
  },
  {
   "cell_type": "code",
   "execution_count": 4,
   "metadata": {},
   "outputs": [
    {
     "data": {
      "text/html": [
       "<div>\n",
       "<style scoped>\n",
       "    .dataframe tbody tr th:only-of-type {\n",
       "        vertical-align: middle;\n",
       "    }\n",
       "\n",
       "    .dataframe tbody tr th {\n",
       "        vertical-align: top;\n",
       "    }\n",
       "\n",
       "    .dataframe thead th {\n",
       "        text-align: right;\n",
       "    }\n",
       "</style>\n",
       "<table border=\"1\" class=\"dataframe\">\n",
       "  <thead>\n",
       "    <tr style=\"text-align: right;\">\n",
       "      <th></th>\n",
       "      <th>Serial number</th>\n",
       "      <th>Seroype</th>\n",
       "      <th>geo_loc_name</th>\n",
       "      <th>Host Source</th>\n",
       "    </tr>\n",
       "  </thead>\n",
       "  <tbody>\n",
       "    <tr>\n",
       "      <th>0</th>\n",
       "      <td>136-2contigs</td>\n",
       "      <td>21</td>\n",
       "      <td>China</td>\n",
       "      <td>Healthy pig</td>\n",
       "    </tr>\n",
       "    <tr>\n",
       "      <th>1</th>\n",
       "      <td>16SD1AY22-2</td>\n",
       "      <td>3</td>\n",
       "      <td>China</td>\n",
       "      <td>Healthy pig</td>\n",
       "    </tr>\n",
       "    <tr>\n",
       "      <th>2</th>\n",
       "      <td>16SD1BY34-1</td>\n",
       "      <td>18</td>\n",
       "      <td>China</td>\n",
       "      <td>Healthy pig</td>\n",
       "    </tr>\n",
       "    <tr>\n",
       "      <th>3</th>\n",
       "      <td>GCA_018417975.1_ASM1841797v1_genomic</td>\n",
       "      <td>2</td>\n",
       "      <td>China</td>\n",
       "      <td>Diseased pig</td>\n",
       "    </tr>\n",
       "    <tr>\n",
       "      <th>4</th>\n",
       "      <td>GCA_018418085.1_ASM1841808v1_genomic</td>\n",
       "      <td>2</td>\n",
       "      <td>China</td>\n",
       "      <td>Diseased pig</td>\n",
       "    </tr>\n",
       "    <tr>\n",
       "      <th>...</th>\n",
       "      <td>...</td>\n",
       "      <td>...</td>\n",
       "      <td>...</td>\n",
       "      <td>...</td>\n",
       "    </tr>\n",
       "    <tr>\n",
       "      <th>1379</th>\n",
       "      <td>ZWJ38-28</td>\n",
       "      <td>7</td>\n",
       "      <td>China</td>\n",
       "      <td>Healthy pig</td>\n",
       "    </tr>\n",
       "    <tr>\n",
       "      <th>1380</th>\n",
       "      <td>ZWJ38-30</td>\n",
       "      <td>30</td>\n",
       "      <td>China</td>\n",
       "      <td>Healthy pig</td>\n",
       "    </tr>\n",
       "    <tr>\n",
       "      <th>1381</th>\n",
       "      <td>ZWJ38-31</td>\n",
       "      <td>nt</td>\n",
       "      <td>China</td>\n",
       "      <td>Healthy pig</td>\n",
       "    </tr>\n",
       "    <tr>\n",
       "      <th>1382</th>\n",
       "      <td>ZWJ38-34</td>\n",
       "      <td>nt</td>\n",
       "      <td>China</td>\n",
       "      <td>Healthy pig</td>\n",
       "    </tr>\n",
       "    <tr>\n",
       "      <th>1383</th>\n",
       "      <td>ZWJ38-5</td>\n",
       "      <td>nt</td>\n",
       "      <td>China</td>\n",
       "      <td>Healthy pig</td>\n",
       "    </tr>\n",
       "  </tbody>\n",
       "</table>\n",
       "<p>1384 rows × 4 columns</p>\n",
       "</div>"
      ],
      "text/plain": [
       "                             Serial number Seroype geo_loc_name   Host Source\n",
       "0                             136-2contigs      21        China   Healthy pig\n",
       "1                              16SD1AY22-2       3        China   Healthy pig\n",
       "2                              16SD1BY34-1      18        China   Healthy pig\n",
       "3     GCA_018417975.1_ASM1841797v1_genomic       2        China  Diseased pig\n",
       "4     GCA_018418085.1_ASM1841808v1_genomic       2        China  Diseased pig\n",
       "...                                    ...     ...          ...           ...\n",
       "1379                              ZWJ38-28       7        China   Healthy pig\n",
       "1380                              ZWJ38-30      30        China   Healthy pig\n",
       "1381                              ZWJ38-31      nt        China   Healthy pig\n",
       "1382                              ZWJ38-34      nt        China   Healthy pig\n",
       "1383                               ZWJ38-5      nt        China   Healthy pig\n",
       "\n",
       "[1384 rows x 4 columns]"
      ]
     },
     "execution_count": 4,
     "metadata": {},
     "output_type": "execute_result"
    }
   ],
   "source": [
    "df"
   ]
  },
  {
   "cell_type": "code",
   "execution_count": 6,
   "metadata": {},
   "outputs": [
    {
     "data": {
      "text/plain": [
       "geo_loc_name    Host Source \n",
       "Canada          Diseased pig      1\n",
       "                Healthy pig       1\n",
       "China           Diseased pig    288\n",
       "                Healthy pig     286\n",
       "                human           113\n",
       "Germany         Diseased pig      1\n",
       "                human             1\n",
       "Italy           human             1\n",
       "Japan           Diseased pig     11\n",
       "                Healthy pig       4\n",
       "                human             1\n",
       "Netherlands     Diseased pig     78\n",
       "                Healthy pig       1\n",
       "                human            27\n",
       "Thailand        Diseased pig      4\n",
       "                Healthy pig       5\n",
       "                human            14\n",
       "USA             Diseased pig      4\n",
       "                Healthy pig       3\n",
       "United Kingdom  Diseased pig    103\n",
       "                Healthy pig      69\n",
       "Viet Nam        Diseased pig     13\n",
       "                Healthy pig      33\n",
       "                human           306\n",
       "unknown         Diseased pig     14\n",
       "                Healthy pig       2\n",
       "dtype: int64"
      ]
     },
     "execution_count": 6,
     "metadata": {},
     "output_type": "execute_result"
    }
   ],
   "source": [
    "df.groupby(['geo_loc_name', 'Host Source']).size()"
   ]
  },
  {
   "cell_type": "code",
   "execution_count": null,
   "metadata": {},
   "outputs": [],
   "source": []
  }
 ],
 "metadata": {
  "kernelspec": {
   "display_name": "Python 3",
   "language": "python",
   "name": "python3"
  },
  "language_info": {
   "codemirror_mode": {
    "name": "ipython",
    "version": 3
   },
   "file_extension": ".py",
   "mimetype": "text/x-python",
   "name": "python",
   "nbconvert_exporter": "python",
   "pygments_lexer": "ipython3",
   "version": "3.6.8"
  },
  "toc": {
   "base_numbering": 1,
   "nav_menu": {},
   "number_sections": true,
   "sideBar": true,
   "skip_h1_title": false,
   "title_cell": "Table of Contents",
   "title_sidebar": "Contents",
   "toc_cell": false,
   "toc_position": {},
   "toc_section_display": true,
   "toc_window_display": false
  }
 },
 "nbformat": 4,
 "nbformat_minor": 2
}
